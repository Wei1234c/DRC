{
 "cells": [
  {
   "cell_type": "markdown",
   "metadata": {},
   "source": [
    "# AutoEQ on demand - for speaker single channel - with PyTorch\n",
    "### with TCPi Channel and ESP32 as Server"
   ]
  },
  {
   "cell_type": "code",
   "execution_count": null,
   "metadata": {},
   "outputs": [],
   "source": [
    "%pylab inline"
   ]
  },
  {
   "cell_type": "code",
   "execution_count": null,
   "metadata": {},
   "outputs": [],
   "source": [
    "from pathfinder import Pathfinder\n",
    "\n",
    "# abs_paths = ['']\n",
    "# Pathfinder.relative_paths_from_abs(abs_paths)\n",
    "\n",
    "relative_paths = [['..', '..', '..', '..', 'SigmaDSP', 'bitbucket', 'github', 'codes'],\n",
    "                  ['..', '..', '..', '..', 'Signal Generators', 'bitbucket', 'github', 'codes'],\n",
    "                  ['..', '..', '..', '..', 'Utilities', 'bitbucket', 'github', 'codes'], \n",
    "                  ['..', '..', '..', '..', 'TCPi', 'bitbucket', 'github', 'codes']] \n",
    "\n",
    "Pathfinder.append_relative_paths(relative_paths)\n",
    "# =====================================================\n",
    "\n",
    "import pandas as pd\n",
    "\n",
    "#https://thispointer.com/python-pandas-how-to-display-full-dataframe-i-e-print-all-rows-columns-without-truncation/\n",
    "pd.set_option('display.max_rows', None)\n",
    "# pd.set_option('display.max_columns', None)\n",
    "# pd.set_option('display.width', None)\n",
    "# pd.set_option('display.max_colwidth', -1)\n",
    "# =====================================================\n",
    "\n",
    "## TCPi\n",
    "\n",
    "import time \n",
    "\n",
    "from tcpi.protocols.TCPIP1701 import class_finder\n",
    "# =====================================================\n",
    "\n",
    "### Client\n",
    "\n",
    "from tcpi.bus.tcpi_client import I2C as TcpI2C_client\n",
    "\n",
    "tcpi_client = TcpI2C_client(class_finder)\n",
    "server_ip = '192.168.203.36'\n",
    "tcpi_client.connect(server_ip = server_ip, server_port = 8086)\n",
    "time.sleep(1)\n",
    "# =====================================================\n",
    "\n",
    "## DSP processor\n",
    "\n",
    "from sigma.sigma_dsp.adau import ADAU1401\n",
    "\n",
    "# dsp = ADAU1401(bus = bus)\n",
    "dsp = ADAU1401(bus = tcpi_client)\n",
    "# ====================================================="
   ]
  },
  {
   "cell_type": "markdown",
   "metadata": {},
   "source": [
    "## SigmaStudio project file"
   ]
  },
  {
   "cell_type": "code",
   "execution_count": null,
   "metadata": {},
   "outputs": [],
   "source": [
    "import os\n",
    "\n",
    "SigmaStudio_project_file_url = os.sep.join(['..', 'SigmaStudio projects', 'projects', 'demo', 'demo.dspproj'])\n",
    "SigmaStudio_project_file_url"
   ]
  },
  {
   "cell_type": "markdown",
   "metadata": {},
   "source": [
    "![](https://github.com/Wei1234c/DRC/blob/master/SigmaStudio%20projects/projects/demo/demo.png?raw=true)"
   ]
  },
  {
   "cell_type": "markdown",
   "metadata": {},
   "source": [
    "## Factory"
   ]
  },
  {
   "cell_type": "code",
   "execution_count": null,
   "metadata": {},
   "outputs": [],
   "source": [
    "import os\n",
    "from sigma.factory import Factory \n",
    "\n",
    "project_xml_file_url = os.sep.join(['..', 'SigmaStudio projects', 'projects', 'demo', 'demo.xml'])\n",
    "class_files_root_url = os.sep.join(['..', '..', '..', '..', 'SigmaDSP', 'bitbucket', 'github', 'codes', 'sigma', 'sigma_studio', 'toolbox', 'cells']) \n",
    "\n",
    "factory = Factory(project_xml_file_url = project_xml_file_url,\n",
    "                  class_files_root_url = class_files_root_url,\n",
    "                  dsp = dsp\n",
    "                 )"
   ]
  },
  {
   "cell_type": "markdown",
   "metadata": {},
   "source": [
    "## IC"
   ]
  },
  {
   "cell_type": "code",
   "execution_count": null,
   "metadata": {
    "scrolled": false
   },
   "outputs": [],
   "source": [
    "# showing cells, algorithms, parameters of this project\n",
    "\n",
    "ic = factory.get_ic()\n",
    "ic.df"
   ]
  },
  {
   "cell_type": "markdown",
   "metadata": {},
   "source": [
    "## Cells "
   ]
  },
  {
   "cell_type": "code",
   "execution_count": null,
   "metadata": {},
   "outputs": [],
   "source": [
    "cells = factory.get_cells(ic)"
   ]
  },
  {
   "cell_type": "markdown",
   "metadata": {},
   "source": [
    "### Get Cell objects ready for use."
   ]
  },
  {
   "cell_type": "code",
   "execution_count": null,
   "metadata": {
    "scrolled": false
   },
   "outputs": [],
   "source": [
    "# # un-comment this to generate a script to embody Cell objects.\n",
    "\n",
    "# for o in factory.get_cells_manifest():\n",
    "#     print(o) "
   ]
  },
  {
   "cell_type": "code",
   "execution_count": null,
   "metadata": {},
   "outputs": [],
   "source": [
    "# assign variable names to each Cell for easy access.\n",
    "\n",
    "delay0 = cells['Delay0']  # Fractional Delay( 1 )\n",
    "delay1 = cells['Delay1']  # Fractional Delay( 1 )\n",
    "fir0 = cells['FIR0']  # FIR( 1 )\n",
    "fir1 = cells['FIR1']  # FIR( 1 )\n",
    "gain0 = cells['Gain0']  # Gain (no slew)( 1 )\n",
    "gain1 = cells['Gain1']  # Gain (no slew)( 1 )\n",
    "invert0 = cells['Invert0']  # Invert( 1 )\n",
    "invert1 = cells['Invert1']  # Invert( 1 )\n",
    "merger0 = cells['Merger0']  # Signal MixerC\n",
    "merger1 = cells['Merger1']  # Signal MixerC\n",
    "mute00 = cells['Mute00']  # No Slew (Standard)( 1 )\n",
    "mute01 = cells['Mute01']  # No Slew (Standard)( 1 )\n",
    "mute10 = cells['Mute10']  # No Slew (Standard)( 1 )\n",
    "mute11 = cells['Mute11']  # No Slew (Standard)( 1 )\n",
    "param_eq0 = cells['Param EQ0']  # PEQ1Chan - Double Precision( 1 )\n",
    "param_eq1 = cells['Param EQ1']  # PEQ1Chan - Double Precision( 1 )\n",
    "pink_flt1 = cells['Pink Flt1']  # Pink Noise Filter( 1 )\n",
    "source_switch = cells['Source_Switch']  # Stereo SW Slew( 3 )\n",
    "sw_noise = cells['SW_noise']  # Mono SW Slew( 2 )\n",
    "tone = cells['Tone']  # Tone Synthesis (lookup/sine)( 1 )\n",
    "white_noise = cells['White_Noise']  # White Noise( 1 )"
   ]
  },
  {
   "cell_type": "code",
   "execution_count": null,
   "metadata": {},
   "outputs": [],
   "source": [
    "channels = {'left' : {'idx_channel': 0,\n",
    "                      'muter': mute00,\n",
    "                      'gain' : gain0,\n",
    "                      'delay': delay0,\n",
    "                      'peq'  : param_eq0,\n",
    "                      'fir'  : fir0},\n",
    "            'right': {'idx_channel': 1,\n",
    "                      'muter': mute11,\n",
    "                      'gain' : gain1,\n",
    "                      'delay': delay1,\n",
    "                      'peq'  : param_eq1,\n",
    "                      'fir'  : fir1}}\n",
    "\n",
    "def mute_all(value = True):\n",
    "    for channel in channels.values():\n",
    "        channel['muter'].mute(value)\n",
    "        \n",
    "def source_select_white_noise():\n",
    "    source_switch.switch(1)\n",
    "    invert1.enable(False)\n",
    "    sw_noise.switch(1)\n",
    "    \n",
    "def source_select_white_noise_inverted():\n",
    "    source_switch.switch(1)\n",
    "    invert1.enable(True)\n",
    "    sw_noise.switch(1)\n",
    "    \n",
    "def source_select_normal():\n",
    "    source_switch.switch(2)\n",
    "    mute_all(False)\n",
    "\n",
    "def measure_channel(channel_name):\n",
    "    mute_all(True)\n",
    "    source_select_white_noise()\n",
    "    channels[channel_name]['muter'].mute(False)\n",
    "    \n",
    "def set_peq_coeffs(channel_name, coeffs):   \n",
    "    muter = channels[channel_name]['muter'] \n",
    "    muter.mute(True)\n",
    "    channels[channel_name]['peq'].set_coefficients_values(coeffs)\n",
    "    muter.mute(False)    \n",
    "\n",
    "def reset_peq_coeffs(channel_name):   \n",
    "    muter = channels[channel_name]['muter'] \n",
    "    muter.mute(True)\n",
    "    channels[channel_name]['peq'].reset_coefficients()\n",
    "    muter.mute(False)\n",
    "    \n",
    "def reset_delays():\n",
    "    delay0.set_delayed_percentage(0)\n",
    "    delay1.set_delayed_percentage(0)\n",
    "    \n",
    "def reset_gains():\n",
    "    gain0.set_gain(1)\n",
    "    gain1.set_gain(1)"
   ]
  },
  {
   "cell_type": "markdown",
   "metadata": {},
   "source": [
    "# Frequency Response Tuning"
   ]
  },
  {
   "cell_type": "code",
   "execution_count": null,
   "metadata": {},
   "outputs": [],
   "source": [
    "from pathfinder import Pathfinder\n",
    "\n",
    "relative_paths = [['..', '..', '..', '..', '..', '..', '資料科學', 'Allen Downey', 'Think DSP', 'code'],\n",
    "                  ['..', '..', '..', '..', 'AutoEq'],\n",
    "                  ['..', 'codes']]\n",
    "\n",
    "Pathfinder.append_relative_paths(relative_paths)\n",
    "\n",
    "# import thinkdsp\n",
    "# from drc.sound import Sound, Channel, InputDevice\n",
    "\n",
    "import time\n",
    "from drc.sound import InputDevice, Channel\n",
    "from drc.filters.peq import PEQs\n",
    "from drc.tuners.response.equalizer import ResponseEqualizer\n",
    "from drc.measurements.frequency.responses import FrequencyResponse \n",
    "from drc.measurements import Sampler\n",
    "import pandas as pd"
   ]
  },
  {
   "cell_type": "code",
   "execution_count": null,
   "metadata": {},
   "outputs": [],
   "source": [
    "# from pprint import pprint\n",
    "\n",
    "# pprint(Sound.scan_devices(0))"
   ]
  },
  {
   "cell_type": "markdown",
   "metadata": {},
   "source": [
    "# Microphone settings"
   ]
  },
  {
   "cell_type": "code",
   "execution_count": null,
   "metadata": {},
   "outputs": [],
   "source": [
    "from drc.measurements.frequency.calibrations.miniDSP import UMIK1\n",
    "\n",
    "\n",
    "fn_calibration = 'UMIK-1 cal file 7103946.txt'\n",
    "# fn = 'UMIK-1 cal file 7103946_90deg.txt'\n",
    "\n",
    "mic = UMIK1()\n",
    "mic.load(file_name = fn_calibration, n_header_lines = 2) "
   ]
  },
  {
   "cell_type": "markdown",
   "metadata": {},
   "source": [
    "## Setup Source Signal"
   ]
  },
  {
   "cell_type": "code",
   "execution_count": null,
   "metadata": {},
   "outputs": [],
   "source": [
    "# switch to white noise\n",
    "source_select_white_noise()"
   ]
  },
  {
   "cell_type": "markdown",
   "metadata": {},
   "source": [
    "# Utilities for sampling"
   ]
  },
  {
   "cell_type": "code",
   "execution_count": null,
   "metadata": {},
   "outputs": [],
   "source": [
    "SMOOTHING_WINDOW_SIZE = 1/12\n",
    "TREBLE_SMOOTHING_WINDOW_SIZE = 2\n",
    "    \n",
    "def probe(window_size = SMOOTHING_WINDOW_SIZE,\n",
    "          treble_window_size = TREBLE_SMOOTHING_WINDOW_SIZE,\n",
    "          n_samplings = 10):     \n",
    "    \n",
    "    return mic.get_frequency_response(input_device_idx = 1,  \n",
    "                                      window_size = window_size,\n",
    "                                      treble_window_size = treble_window_size, \n",
    "                                      n_samplings = n_samplings)\n",
    "def plot(fr):\n",
    "    fr.plot_graph(raw_plot_kwargs= {'color': 'green', 'alpha': 0.5},\n",
    "                  smoothed_plot_kwargs= {'color': 'red', 'alpha': 0.5});"
   ]
  },
  {
   "cell_type": "markdown",
   "metadata": {},
   "source": [
    "# Reset Filters"
   ]
  },
  {
   "cell_type": "code",
   "execution_count": null,
   "metadata": {},
   "outputs": [],
   "source": [
    "for channel_name in channels.keys():\n",
    "    reset_peq_coeffs(channel_name)  "
   ]
  },
  {
   "cell_type": "markdown",
   "metadata": {},
   "source": [
    "# Prepare to measure one channel"
   ]
  },
  {
   "cell_type": "code",
   "execution_count": null,
   "metadata": {},
   "outputs": [],
   "source": [
    "channel_name = 'left'\n",
    "measure_channel(channel_name)"
   ]
  },
  {
   "cell_type": "markdown",
   "metadata": {},
   "source": [
    "# Get Samples"
   ]
  },
  {
   "cell_type": "code",
   "execution_count": null,
   "metadata": {},
   "outputs": [],
   "source": [
    "fr_sample, fr_measurement = probe()\n",
    "plot(fr_sample);"
   ]
  },
  {
   "cell_type": "markdown",
   "metadata": {},
   "source": [
    "# Calculate PEQ Coefficients "
   ]
  },
  {
   "cell_type": "code",
   "execution_count": null,
   "metadata": {},
   "outputs": [],
   "source": [
    "# _, fr_measurement = probe()"
   ]
  },
  {
   "cell_type": "code",
   "execution_count": null,
   "metadata": {},
   "outputs": [],
   "source": [
    "import time\n",
    "\n",
    "n_filters = 10\n",
    "max_gain_dB = 12\n",
    "bass_boost_gain = 0\n",
    "\n",
    "# compensation_path = 'compensation/harman_over-ear_2018.csv'\n",
    "compensation_path = 'compensation/zero.csv'\n",
    "compensation = FrequencyResponse.read_from_csv(compensation_path)\n",
    "\n",
    "measurement, peqs, n_peq_filters, peq_max_gains = \\\n",
    "    ResponseEqualizer.get_peq_filters(fr_measurement,\n",
    "                                      compensation,\n",
    "                                      max_filters = n_filters,\n",
    "                                      max_gain_dB = max_gain_dB,\n",
    "                                      bass_boost_gain = bass_boost_gain)\n",
    "n_peq_filters, peq_max_gains"
   ]
  },
  {
   "cell_type": "code",
   "execution_count": null,
   "metadata": {},
   "outputs": [],
   "source": [
    "# set_peq_coeffs(channel_name, peqs.get_coefficient_sets_values(n_filters = n_filters)  )"
   ]
  },
  {
   "cell_type": "code",
   "execution_count": null,
   "metadata": {},
   "outputs": [],
   "source": [
    "measurement.plot_graph();"
   ]
  },
  {
   "cell_type": "markdown",
   "metadata": {},
   "source": [
    "# PEQ Filters"
   ]
  },
  {
   "cell_type": "code",
   "execution_count": null,
   "metadata": {
    "scrolled": true
   },
   "outputs": [],
   "source": [
    "pd.DataFrame(peqs.param_sets)"
   ]
  },
  {
   "cell_type": "code",
   "execution_count": null,
   "metadata": {},
   "outputs": [],
   "source": [
    "coeffs_equalized_values = peqs.get_coefficient_sets_values(n_filters = n_filters)  "
   ]
  },
  {
   "cell_type": "markdown",
   "metadata": {},
   "source": [
    "# Apply Filters"
   ]
  },
  {
   "cell_type": "code",
   "execution_count": null,
   "metadata": {},
   "outputs": [],
   "source": [
    "set_peq_coeffs(channel_name, coeffs_equalized_values)"
   ]
  },
  {
   "cell_type": "code",
   "execution_count": null,
   "metadata": {},
   "outputs": [],
   "source": [
    "plot(probe()[0]);"
   ]
  },
  {
   "cell_type": "markdown",
   "metadata": {},
   "source": [
    "# Enhance Qs and Gains"
   ]
  },
  {
   "cell_type": "code",
   "execution_count": null,
   "metadata": {},
   "outputs": [],
   "source": [
    "n_peq_filter = n_peq_filters[0]"
   ]
  },
  {
   "cell_type": "code",
   "execution_count": null,
   "metadata": {},
   "outputs": [],
   "source": [
    "set_peq_coeffs(channel_name, coeffs_equalized_values)"
   ]
  },
  {
   "cell_type": "code",
   "execution_count": null,
   "metadata": {},
   "outputs": [],
   "source": [
    "import torch\n",
    "import torch.nn.functional as F\n",
    "from torch import nn\n",
    " \n",
    "layer_size = 256\n",
    "\n",
    "class NeuralNetwork(nn.Module):\n",
    "\n",
    "    def __init__(self):\n",
    "        super().__init__()\n",
    "        self.fc1 = nn.Linear(1, layer_size)\n",
    "        self.fc2 = nn.Linear(layer_size, layer_size)\n",
    "        self.fc21 = nn.Linear(layer_size, layer_size)\n",
    "        self.fc22 = nn.Linear(layer_size, layer_size)\n",
    "        self.fc_gain = nn.Linear(layer_size, n_peq_filter)\n",
    "        self.fc_Q = nn.Linear(layer_size, n_peq_filter)\n",
    "\n",
    "    def forward(self, x):\n",
    "        x = F.relu(self.fc1(x))\n",
    "        x = F.relu(self.fc2(x))\n",
    "        \n",
    "        gains = F.relu(self.fc21(x))\n",
    "        gains = torch.tanh(self.fc_gain(gains)).mul(max_gain_dB)\n",
    "#         gains = torch.tanh(self.fc_gain(x)).mul(max_gain_dB)\n",
    "        \n",
    "#         Qs = F.relu(self.fc22(x))\n",
    "#         Qs = torch.relu(self.fc_Q(Qs)).add(0.71)   \n",
    "#         Qs = torch.relu(self.fc_Q(x)).add(0.5)    \n",
    "        \n",
    "#         x = F.normalize(x)\n",
    "        return gains \n",
    "#         return gains, Qs"
   ]
  },
  {
   "cell_type": "code",
   "execution_count": null,
   "metadata": {},
   "outputs": [],
   "source": [
    "model = NeuralNetwork()\n",
    "\n",
    "loss_fn = nn.MSELoss()\n",
    "# loss_fn = nn.CrossEntropyLoss()\n",
    "# optimizer = torch.optim.SGD(model.parameters(), lr = 1e-3)\n",
    "optimizer = torch.optim.Adam(model.parameters(), lr = 5e-4)\n",
    "# optimizer = torch.optim.Adam(model.parameters(), lr = 1e-3)"
   ]
  },
  {
   "cell_type": "code",
   "execution_count": null,
   "metadata": {},
   "outputs": [],
   "source": [
    "_, fr_measurement = probe()\n",
    "\n",
    "\n",
    "# f_min = 200\n",
    "# f_max = 6000\n",
    "f_min = 20\n",
    "f_max = 20000\n",
    "\n",
    "compensation.interpolate(f_min = f_min, f_max = f_max)\n",
    "# compensation.interpolate(f = fr_measurement.frequency)\n",
    "compensation.center( )\n",
    "target = compensation.raw"
   ]
  },
  {
   "cell_type": "code",
   "execution_count": null,
   "metadata": {},
   "outputs": [],
   "source": [
    "x = torch.ones((1, 1)) \n",
    "fs = peqs.fs \n",
    "    \n",
    "def test_cycle():\n",
    "    \n",
    "#     gains, Qs = model(x)\n",
    "    gains  = model(x)\n",
    "    peqs.param_sets = []\n",
    "    \n",
    "#     filter_Qs =  [q.detach().numpy()  for q in Qs.flatten()]\n",
    "#     filter_gains = [g.detach().numpy()  for g in gains.flatten()]\n",
    "\n",
    "#     filter_Qs =  [e.item() for e in Qs[0]]\n",
    "    filter_gains = [e.item() for e in gains[0]]\n",
    "\n",
    "#     filter_Qs =  Qs.detach().numpy()\n",
    "#     filter_gains = gains.detach().numpy()\n",
    "     \n",
    "    \n",
    "#     for fc, q, gain in zip(fs,  filter_Qs, filter_gains):\n",
    "    for fc,  gain in zip(fs,   filter_gains):  \n",
    "        q = 0.71\n",
    "#         print(f'fc: {fc:.0f}, Q: {q:.2f}, gain: {gain:.2f}' ) \n",
    "        peqs.add_peq(freq_Hz = fc, Q = q, gain_dB= gain)\n",
    "    \n",
    "    # apply filter coefficients\n",
    "    set_peq_coeffs(channel_name, peqs.get_coefficient_sets_values(n_filters = n_filters))\n",
    "    time.sleep(1)\n",
    "    \n",
    "    # probe and plot\n",
    "    _, fr_measurement = probe(window_size = 1/6, treble_window_size = 2)\n",
    "    fr_measurement.interpolate(f_min = f_min, f_max = f_max)\n",
    "#     fr_measurement.center( )\n",
    "    fr_measurement.target = target\n",
    "    fr_measurement.plot()\n",
    "     \n",
    "    # train\n",
    "#     print(torch.tensor(fr_measurement.raw.reshape((-1, 0))).shape, torch.tensor(target.reshape((-1, 0))).shape)\n",
    "     \n",
    "     \n",
    "    X = torch.tensor(np.expand_dims(fr_measurement.raw, axis = 0))\n",
    "    Y = torch.tensor(np.expand_dims(target, axis = 0)) \n",
    "    loss = loss_fn(X, Y)\n",
    "    \n",
    "#     gains.backward(gradient = loss  , retain_graph = True)\n",
    "\n",
    "#     gains.backward(gradient = loss * gains / torch.sum(gains) , retain_graph = True)\n",
    "#     Qs.backward(gradient = loss * Qs / torch.sum(Qs)  , retain_graph = True)\n",
    "\n",
    "#     gains.backward(gradient = -loss * gains / torch.sum(gains) / n_peq_filter, retain_graph = True)\n",
    "    gains.backward(gradient = loss * gains / torch.sum(gains) , retain_graph = True)\n",
    "#     Qs.backward(gradient = loss * Qs / torch.sum(Qs)  / n_peq_filter, retain_graph = True)\n",
    "    \n",
    "    optimizer.step()\n",
    "\n",
    "    return gains, None, loss\n",
    "#     return gains, Qs, loss"
   ]
  },
  {
   "cell_type": "code",
   "execution_count": null,
   "metadata": {
    "scrolled": false
   },
   "outputs": [],
   "source": [
    "for i in range(50):\n",
    "    gains, Qs, loss = test_cycle();\n",
    "    print(f'run {i} loss: {loss:.2f}'); "
   ]
  },
  {
   "cell_type": "code",
   "execution_count": null,
   "metadata": {},
   "outputs": [],
   "source": [
    "_, fr_measurement = probe()\n",
    "fr_measurement.plot()"
   ]
  },
  {
   "cell_type": "markdown",
   "metadata": {},
   "source": [
    "# Listen"
   ]
  },
  {
   "cell_type": "code",
   "execution_count": null,
   "metadata": {},
   "outputs": [],
   "source": [
    "# source_select_normal()"
   ]
  },
  {
   "cell_type": "markdown",
   "metadata": {},
   "source": [
    "# Close TCP channels"
   ]
  },
  {
   "cell_type": "code",
   "execution_count": null,
   "metadata": {},
   "outputs": [],
   "source": [
    "# tcpi_client.stop()"
   ]
  }
 ],
 "metadata": {
  "kernelspec": {
   "display_name": "Python 3 (ipykernel)",
   "language": "python",
   "name": "python3"
  },
  "language_info": {
   "codemirror_mode": {
    "name": "ipython",
    "version": 3
   },
   "file_extension": ".py",
   "mimetype": "text/x-python",
   "name": "python",
   "nbconvert_exporter": "python",
   "pygments_lexer": "ipython3",
   "version": "3.9.12"
  }
 },
 "nbformat": 4,
 "nbformat_minor": 2
}
