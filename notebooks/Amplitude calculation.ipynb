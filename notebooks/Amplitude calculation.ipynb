{
 "cells": [
  {
   "cell_type": "markdown",
   "metadata": {},
   "source": [
    "# Amplitude calculation"
   ]
  },
  {
   "cell_type": "markdown",
   "metadata": {},
   "source": [
    "### Imports"
   ]
  },
  {
   "cell_type": "code",
   "execution_count": 1,
   "metadata": {},
   "outputs": [
    {
     "name": "stdout",
     "output_type": "stream",
     "text": [
      "%pylab is deprecated, use %matplotlib inline and import the required libraries.\n",
      "Populating the interactive namespace from numpy and matplotlib\n"
     ]
    }
   ],
   "source": [
    "%pylab inline"
   ]
  },
  {
   "cell_type": "code",
   "execution_count": 2,
   "metadata": {},
   "outputs": [],
   "source": [
    "from pathfinder import Pathfinder\n",
    "\n",
    "# abs_paths = ['']\n",
    "# relative_paths = Pathfinder.relative_paths_from_abs(abs_paths)"
   ]
  },
  {
   "cell_type": "code",
   "execution_count": 3,
   "metadata": {},
   "outputs": [],
   "source": [
    "relative_paths = [['..', '..', '..', '..', '..', '..', '資料科學', 'Allen Downey', 'Think DSP', 'code'],\n",
    "                  ['..', '..', '..', '..', 'AutoEq'],\n",
    "                  ['..', 'codes']]\n",
    "\n",
    "Pathfinder.append_relative_paths(relative_paths)"
   ]
  },
  {
   "cell_type": "markdown",
   "metadata": {},
   "source": [
    "# dBSPL, dBFS, dBV, V, FS conversions"
   ]
  },
  {
   "cell_type": "code",
   "execution_count": 4,
   "metadata": {},
   "outputs": [
    {
     "name": "stdout",
     "output_type": "stream",
     "text": [
      "dBSPL 128.0\n",
      "vrms 2.0\n",
      "sensitivity_dBV -46.0\n",
      "dBSPL 101.85880017344076\n",
      "v_fs 0.5000000000000001\n",
      "sensitivity_dBFS -31.900000000000006\n",
      "dBSPL 101.85880017344076\n",
      "dBFS -6.0205999132796215\n",
      "sensitivity_dBFS -31.9\n",
      "dBSPL 128.0\n",
      "dBV 6.020599913279624\n",
      "sensitivity_dBV -46.0\n",
      "dBFS 20.120599913279623\n",
      "dBV 6.020599913279624\n",
      "vfs 10.139814165494085\n",
      "vrms 2.0\n"
     ]
    }
   ],
   "source": [
    "from drc.measurements import Amplitude\n",
    "\n",
    "\n",
    "voltage = 2.0\n",
    "value_FS = 0.5\n",
    "sensitivity_dBV_at_one_pa = -46\n",
    "sensitivity_dBFS_at_one_pa = -31.9\n",
    "gain_dB = 18\n",
    "\n",
    "# Vrms vs dBSPL =======================\n",
    "# voltage = 10 ** (-46 / 20)\n",
    "dBSPL = Amplitude.voltage_to_dBSPL(voltage, sensitivity_dBV_at_one_pa, gain_dB)\n",
    "print('dBSPL', dBSPL)\n",
    "\n",
    "vrms = Amplitude.voltage_from_dBSPL(dBSPL, sensitivity_dBV_at_one_pa, gain_dB)\n",
    "print('vrms', vrms)\n",
    "\n",
    "assert abs(vrms - voltage) < 1e-7\n",
    "\n",
    "sensitivity_dBV = Amplitude.get_sensitivity_dBV_by_voltage(voltage, dBSPL, gain_dB)\n",
    "print('sensitivity_dBV', sensitivity_dBV)\n",
    "assert abs(sensitivity_dBV - sensitivity_dBV_at_one_pa) < 1e-7\n",
    "\n",
    "# FS vs dBSPL =======================\n",
    "dBSPL = Amplitude.FS_to_dBSPL(value_FS, sensitivity_dBFS_at_one_pa, gain_dB)\n",
    "print('dBSPL', dBSPL)\n",
    "\n",
    "v_fs = Amplitude.FS_from_dBSPL(dBSPL, sensitivity_dBFS_at_one_pa, gain_dB)\n",
    "print('v_fs', v_fs)\n",
    "\n",
    "assert abs(v_fs - value_FS) < 1e-7\n",
    "\n",
    "sensitivity_dBFS = Amplitude.get_sensitivity_dBFS_by_FS(value_FS, dBSPL, gain_dB)\n",
    "print('sensitivity_dBFS', sensitivity_dBFS)\n",
    "assert abs(sensitivity_dBFS - sensitivity_dBFS_at_one_pa) < 1e-7\n",
    "\n",
    "# dBFS vs dBSPL =======================\n",
    "dBSPL = Amplitude.dBFS_to_dBSPL(Amplitude._to_dB(value_FS), sensitivity_dBFS_at_one_pa, gain_dB)\n",
    "print('dBSPL', dBSPL)\n",
    "\n",
    "dBFS = Amplitude.dBFS_from_dBSPL(dBSPL, sensitivity_dBFS_at_one_pa, gain_dB)\n",
    "print('dBFS', dBFS)\n",
    "\n",
    "assert abs(dBFS - Amplitude._to_dB(value_FS)) < 1e-7\n",
    "\n",
    "sensitivity_dBFS = Amplitude.get_sensitivity_dBFS_by_dBFS(dBFS, dBSPL, gain_dB)\n",
    "print('sensitivity_dBFS', sensitivity_dBFS)\n",
    "assert abs(sensitivity_dBFS - sensitivity_dBFS_at_one_pa) < 1e-7\n",
    "\n",
    "# dBV vs dBSPL =======================\n",
    "dBSPL = Amplitude.dBV_to_dBSPL(Amplitude._to_dB(voltage), sensitivity_dBV_at_one_pa, gain_dB)\n",
    "print('dBSPL', dBSPL)\n",
    "\n",
    "dBV = Amplitude.dBV_from_dBSPL(dBSPL, sensitivity_dBV_at_one_pa, gain_dB)\n",
    "print('dBV', dBV)\n",
    "\n",
    "assert abs(dBV - Amplitude._to_dB(voltage)) < 1e-7\n",
    "\n",
    "sensitivity_dBV = Amplitude.get_sensitivity_dBV_by_dBV(dBV, dBSPL, gain_dB)\n",
    "print('sensitivity_dBV', sensitivity_dBV)\n",
    "assert abs(sensitivity_dBV - sensitivity_dBV_at_one_pa) < 1e-7\n",
    "\n",
    "# dBV vs dBFS ============================\n",
    "dBFS = Amplitude.dBV_to_dBFS(Amplitude._to_dB(voltage), sensitivity_dBV_at_one_pa, sensitivity_dBFS_at_one_pa, gain_dB)\n",
    "print('dBFS', dBFS)\n",
    "\n",
    "dBV = Amplitude.dBFS_to_dBV(dBFS, sensitivity_dBFS_at_one_pa, sensitivity_dBV_at_one_pa, gain_dB)\n",
    "print('dBV', dBV)\n",
    "\n",
    "assert abs(dBV - Amplitude._to_dB(voltage)) < 1e-7\n",
    "\n",
    "# voltage vs FS ============================\n",
    "vfs = Amplitude.voltage_to_FS(voltage, sensitivity_dBV_at_one_pa, sensitivity_dBFS_at_one_pa, gain_dB)\n",
    "print('vfs', vfs)\n",
    "\n",
    "vrms = Amplitude.FS_to_voltage(vfs, sensitivity_dBFS_at_one_pa, sensitivity_dBV_at_one_pa, gain_dB)\n",
    "print('vrms', vrms)\n",
    "\n",
    "assert abs(vrms - voltage) < 1e-7\n"
   ]
  },
  {
   "cell_type": "markdown",
   "metadata": {},
   "source": [
    "# Calculate Sensitivity\n",
    "### We can calculate sensitivity if dBSPL, dBFS and gain are known, same with dBSPL-dBV"
   ]
  },
  {
   "cell_type": "code",
   "execution_count": 5,
   "metadata": {},
   "outputs": [
    {
     "data": {
      "text/plain": [
       "(-45.82379991327962, -45.82379991327962)"
      ]
     },
     "execution_count": 5,
     "metadata": {},
     "output_type": "execute_result"
    }
   ],
   "source": [
    "gain_dB = 18\n",
    "\n",
    "dBSPL = 92.6862\n",
    "dBFS = -29.117\n",
    "dBV = -29.117\n",
    "\n",
    "sensitivity_dBFS = Amplitude.get_sensitivity_dBFS_by_dBFS(dBFS, dBSPL, gain_dB)\n",
    "sensitivity_dBV = Amplitude.get_sensitivity_dBV_by_dBV(dBV, dBSPL, gain_dB, value_ref = 1)\n",
    "\n",
    "sensitivity_dBFS, sensitivity_dBV"
   ]
  },
  {
   "cell_type": "markdown",
   "metadata": {},
   "source": [
    "# Calculate Gain\n",
    "### We can calculate gain if dBSPL, dBFS, sensitivity are known, same with dBSPL-dBV"
   ]
  },
  {
   "cell_type": "code",
   "execution_count": 6,
   "metadata": {},
   "outputs": [
    {
     "data": {
      "text/plain": [
       "(17.999999999999993, 18.0)"
      ]
     },
     "execution_count": 6,
     "metadata": {},
     "output_type": "execute_result"
    }
   ],
   "source": [
    "\n",
    "gain_dBFS = Amplitude.get_gain_dB_by_dBFS(dBFS, sensitivity_dBFS, dBSPL)\n",
    "gain_dBV = Amplitude.get_gain_dB_by_dBV(dBV, dBSPL, sensitivity_dBV, value_ref = 1)\n",
    "\n",
    "gain_dBFS, gain_dBV"
   ]
  },
  {
   "cell_type": "markdown",
   "metadata": {},
   "source": [
    "# Inferenc of sensitivity on SPL\n",
    "With the same dBFS, the more sensitive the microphone is, the lower the SPL is."
   ]
  },
  {
   "cell_type": "code",
   "execution_count": 7,
   "metadata": {},
   "outputs": [
    {
     "data": {
      "text/plain": [
       "28.0"
      ]
     },
     "execution_count": 7,
     "metadata": {},
     "output_type": "execute_result"
    },
    {
     "data": {
      "image/png": "[encoded data removed]",
      "text/plain": [
       "<Figure size 432x288 with 1 Axes>"
      ]
     },
     "metadata": {
      "needs_background": "light"
     },
     "output_type": "display_data"
    }
   ],
   "source": [
    "sensitivities = np.linspace(-50, -20, 3)\n",
    "dBFSs = np.linspace(-40, -12, 100)\n",
    "dBSPLs = np.array(list(Amplitude.dBFS_to_dBSPL(dBFSs, sens, gain_dB) for sens in sensitivities))\n",
    "\n",
    "for i in range(len(sensitivities)):\n",
    "    plt.plot(dBFSs, dBSPLs[i], label = sensitivities[i])\n",
    "    \n",
    "plt.legend()\n",
    "max(dBSPLs[0]) - min(dBSPLs[0])"
   ]
  },
  {
   "cell_type": "markdown",
   "metadata": {},
   "source": [
    "# Inferenc of gain on SPL\n",
    "With the same dBFS, the higher gain of the microphone is, the lower the SPL is."
   ]
  },
  {
   "cell_type": "code",
   "execution_count": 8,
   "metadata": {},
   "outputs": [
    {
     "data": {
      "text/plain": [
       "28.0"
      ]
     },
     "execution_count": 8,
     "metadata": {},
     "output_type": "execute_result"
    },
    {
     "data": {
      "image/png": "[encoded data removed]",
      "text/plain": [
       "<Figure size 432x288 with 1 Axes>"
      ]
     },
     "metadata": {
      "needs_background": "light"
     },
     "output_type": "display_data"
    }
   ],
   "source": [
    "gains = np.linspace(0, 18, 3)\n",
    "dBFSs = np.linspace(-40, -12, 100)\n",
    "dBSPLs = np.array(list(Amplitude.dBFS_to_dBSPL(dBFSs, sensitivity_dBFS, gain) for gain in gains))\n",
    "\n",
    "for i in range(len(gains)):\n",
    "    plt.plot(dBFSs, dBSPLs[i], label = gains[i])\n",
    "    \n",
    "plt.legend()\n",
    "max(dBSPLs[0]) - min(dBSPLs[0])"
   ]
  },
  {
   "cell_type": "markdown",
   "metadata": {},
   "source": [
    "# The interaction of gain and sensitivity\n",
    "With the different dBFSs and dBSPLs measured with the same microphone, \n",
    "the higher the gain means the lower the sensitivity is, no matter what level the SPL is."
   ]
  },
  {
   "cell_type": "code",
   "execution_count": 9,
   "metadata": {},
   "outputs": [
    {
     "data": {
      "image/png": "[encoded data removed]",
      "text/plain": [
       "<Figure size 432x288 with 1 Axes>"
      ]
     },
     "metadata": {
      "needs_background": "light"
     },
     "output_type": "display_data"
    }
   ],
   "source": [
    "sensitivity_dBFS, gain_dB = -45.82379991327962, 18\n",
    "\n",
    "dBFSs = np.linspace(-40, -12, 3) \n",
    "dBSPLs = Amplitude.dBFS_to_dBSPL(dBFSs, sensitivity_dBFS, gain_dB) \n",
    "\n",
    "gains = np.linspace(0, 18, 100)\n",
    "\n",
    "for fs, spl in zip(dBFSs, dBSPLs):\n",
    "    sensitivity_dBFSs = [Amplitude.get_sensitivity_dBFS_by_dBFS(fs, spl, gain_dB) for gain_dB in gains]\n",
    "    # sensitivity_dBFS, sensitivity_dBV\n",
    "    # (-45.82379991327962, -45.82379991327962)\n",
    "\n",
    "    plt.plot(gains, sensitivity_dBFSs);"
   ]
  },
  {
   "cell_type": "markdown",
   "metadata": {},
   "source": [
    "# UMIK-1\n",
    "https://www.hometheatershack.com/threads/understanding-spl-offset-umik-1.134857/"
   ]
  },
  {
   "cell_type": "code",
   "execution_count": 10,
   "metadata": {},
   "outputs": [],
   "source": [
    "from drc.measurements.frequency.calibrations.miniDSP import UMIK1"
   ]
  },
  {
   "cell_type": "code",
   "execution_count": 11,
   "metadata": {},
   "outputs": [],
   "source": [
    "umik = UMIK1()\n",
    "\n",
    "# fn = 'UMIK-1 cal file 7103946.txt'\n",
    "fn = 'UMIK-1 cal file 7103946_90deg.txt'\n",
    "\n",
    "umik.load(file_name = fn, field_sep = None, n_header_lines = 2, line_sep = '\\n')"
   ]
  },
  {
   "cell_type": "code",
   "execution_count": 12,
   "metadata": {},
   "outputs": [
    {
     "data": {
      "text/plain": [
       "'7103946'"
      ]
     },
     "execution_count": 12,
     "metadata": {},
     "output_type": "execute_result"
    }
   ],
   "source": [
    "umik.serial_no  "
   ]
  },
  {
   "cell_type": "code",
   "execution_count": 13,
   "metadata": {},
   "outputs": [
    {
     "data": {
      "text/plain": [
       "-0.667"
      ]
     },
     "execution_count": 13,
     "metadata": {},
     "output_type": "execute_result"
    }
   ],
   "source": [
    "umik.sensitivity_factor_dBFS "
   ]
  },
  {
   "cell_type": "code",
   "execution_count": 14,
   "metadata": {},
   "outputs": [
    {
     "data": {
      "text/plain": [
       "-48.68759991327963"
      ]
     },
     "execution_count": 14,
     "metadata": {},
     "output_type": "execute_result"
    }
   ],
   "source": [
    "umik.sensitivity_dBFS"
   ]
  },
  {
   "cell_type": "code",
   "execution_count": 15,
   "metadata": {},
   "outputs": [
    {
     "data": {
      "text/plain": [
       "18.0"
      ]
     },
     "execution_count": 15,
     "metadata": {},
     "output_type": "execute_result"
    }
   ],
   "source": [
    "umik.gain_dB "
   ]
  },
  {
   "cell_type": "markdown",
   "metadata": {},
   "source": [
    "## Sensitivity Factor"
   ]
  },
  {
   "cell_type": "code",
   "execution_count": 16,
   "metadata": {},
   "outputs": [
    {
     "data": {
      "text/plain": [
       "-0.6669999999999994"
      ]
     },
     "execution_count": 16,
     "metadata": {},
     "output_type": "execute_result"
    }
   ],
   "source": [
    "UMIK1.get_sensitivity_factor_dBFS(umik.sensitivity_dBFS, gain_dB = umik.gain_dB)"
   ]
  },
  {
   "cell_type": "code",
   "execution_count": 17,
   "metadata": {},
   "outputs": [
    {
     "data": {
      "text/plain": [
       "-48.68759991327963"
      ]
     },
     "execution_count": 17,
     "metadata": {},
     "output_type": "execute_result"
    }
   ],
   "source": [
    "Amplitude.get_sensitivity_dBFS_by_dBFS(dBFS = umik.sensitivity_factor_dBFS ,\n",
    "                                       dBSPL = 100,\n",
    "                                       gain_dB = 18 + 24)"
   ]
  },
  {
   "cell_type": "code",
   "execution_count": 18,
   "metadata": {},
   "outputs": [
    {
     "data": {
      "text/plain": [
       "-42.68759991327962"
      ]
     },
     "execution_count": 18,
     "metadata": {},
     "output_type": "execute_result"
    }
   ],
   "source": [
    "Amplitude.get_sensitivity_dBFS_by_dBFS(dBFS = umik.sensitivity_factor_dBFS ,\n",
    "                                       dBSPL = 94,\n",
    "                                       gain_dB = 18 + 24)"
   ]
  },
  {
   "cell_type": "markdown",
   "metadata": {},
   "source": [
    "```\n",
    "The sens factor figure is the rms input level from the mic in dBFS \n",
    "when driven by a 94 dB calibrator with the mic input volume set to maximum. \n",
    "\n",
    "Note for that purpose the dBFS reading is based on a full scale sine being -3.01 dBFS, not 0 dBFS. The actual OS input volume gain/attenuation needs to be accounted for when converting mic rms dBFS levels to SPL.\n",
    "```"
   ]
  }
 ],
 "metadata": {
  "anaconda-cloud": {},
  "kernelspec": {
   "display_name": "Python 3 (ipykernel)",
   "language": "python",
   "name": "python3"
  },
  "language_info": {
   "codemirror_mode": {
    "name": "ipython",
    "version": 3
   },
   "file_extension": ".py",
   "mimetype": "text/x-python",
   "name": "python",
   "nbconvert_exporter": "python",
   "pygments_lexer": "ipython3",
   "version": "3.9.12"
  }
 },
 "nbformat": 4,
 "nbformat_minor": 1
}
