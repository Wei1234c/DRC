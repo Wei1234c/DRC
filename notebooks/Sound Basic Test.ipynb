{
 "cells": [
  {
   "cell_type": "markdown",
   "metadata": {},
   "source": [
    "# Sound Basic Test"
   ]
  },
  {
   "cell_type": "markdown",
   "metadata": {},
   "source": [
    "### Imports"
   ]
  },
  {
   "cell_type": "code",
   "execution_count": 1,
   "metadata": {},
   "outputs": [],
   "source": [
    "from pathfinder import Pathfinder\n",
    "\n",
    "# abs_paths = ['']\n",
    "# relative_paths = Pathfinder.relative_paths_from_abs(abs_paths)"
   ]
  },
  {
   "cell_type": "code",
   "execution_count": 2,
   "metadata": {},
   "outputs": [],
   "source": [
    "relative_paths = [['..', '..', '..', '..', '..', '..', '資料科學', 'Allen Downey', 'Think DSP', 'code'],\n",
    "                  ['..', 'codes']]\n",
    "\n",
    "Pathfinder.append_relative_paths(relative_paths)"
   ]
  },
  {
   "cell_type": "code",
   "execution_count": 3,
   "metadata": {},
   "outputs": [
    {
     "name": "stdout",
     "output_type": "stream",
     "text": [
      "%pylab is deprecated, use %matplotlib inline and import the required libraries.\n",
      "Populating the interactive namespace from numpy and matplotlib\n"
     ]
    }
   ],
   "source": [
    "%pylab inline \n",
    "\n",
    "from drc.sound import *"
   ]
  },
  {
   "cell_type": "markdown",
   "metadata": {},
   "source": [
    "## Play"
   ]
  },
  {
   "cell_type": "code",
   "execution_count": 4,
   "metadata": {},
   "outputs": [],
   "source": [
    "filename = 'violin.wav'\n",
    "# Sound.play_wave_file(filename)"
   ]
  },
  {
   "cell_type": "markdown",
   "metadata": {},
   "source": [
    "## Device detection"
   ]
  },
  {
   "cell_type": "code",
   "execution_count": 5,
   "metadata": {},
   "outputs": [
    {
     "name": "stdout",
     "output_type": "stream",
     "text": [
      "{'info': {'defaultInputDevice': 1,\n",
      "          'defaultOutputDevice': 4,\n",
      "          'deviceCount': 5,\n",
      "          'index': 0,\n",
      "          'name': 'MME',\n",
      "          'structVersion': 1,\n",
      "          'type': 2},\n",
      " 'input_devices': {0: {'defaultSampleRate': 44100.0,\n",
      "                       'maxInputChannels': 2,\n",
      "                       'maxOutputChannels': 0,\n",
      "                       'name': 'Microsoft Sound Mapper - Input'},\n",
      "                   1: {'defaultSampleRate': 44100.0,\n",
      "                       'maxInputChannels': 2,\n",
      "                       'maxOutputChannels': 0,\n",
      "                       'name': '麥克風 (Umik-1  Gain: 18dB)'},\n",
      "                   2: {'defaultSampleRate': 44100.0,\n",
      "                       'maxInputChannels': 2,\n",
      "                       'maxOutputChannels': 0,\n",
      "                       'name': '麥克風排列 (Realtek High Definition '}},\n",
      " 'output_devices': {3: {'defaultSampleRate': 44100.0,\n",
      "                        'maxInputChannels': 0,\n",
      "                        'maxOutputChannels': 2,\n",
      "                        'name': 'Microsoft Sound Mapper - Output'},\n",
      "                    4: {'defaultSampleRate': 44100.0,\n",
      "                        'maxInputChannels': 0,\n",
      "                        'maxOutputChannels': 2,\n",
      "                        'name': '喇叭 (Realtek High Definition Aud'}}}\n"
     ]
    }
   ],
   "source": [
    "from pprint import pprint\n",
    "\n",
    "pprint(Sound.scan_devices(0))"
   ]
  },
  {
   "cell_type": "markdown",
   "metadata": {},
   "source": [
    "## Record"
   ]
  },
  {
   "cell_type": "code",
   "execution_count": 6,
   "metadata": {},
   "outputs": [],
   "source": [
    "Sound.record(input_device_index = [1],\n",
    "             duration= 1,  \n",
    "             nchannels_per_input=1,\n",
    "             sample_width=2,\n",
    "             framerate=48000,\n",
    "             chunk=1024)\n",
    "\n",
    "filename = 'output.wav'"
   ]
  },
  {
   "cell_type": "code",
   "execution_count": 7,
   "metadata": {},
   "outputs": [],
   "source": [
    "Sound.play_wave_file(filename)"
   ]
  }
 ],
 "metadata": {
  "anaconda-cloud": {},
  "kernelspec": {
   "display_name": "Python 3 (ipykernel)",
   "language": "python",
   "name": "python3"
  },
  "language_info": {
   "codemirror_mode": {
    "name": "ipython",
    "version": 3
   },
   "file_extension": ".py",
   "mimetype": "text/x-python",
   "name": "python",
   "nbconvert_exporter": "python",
   "pygments_lexer": "ipython3",
   "version": "3.9.12"
  }
 },
 "nbformat": 4,
 "nbformat_minor": 1
}
